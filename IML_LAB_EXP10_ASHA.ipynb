{
  "nbformat": 4,
  "nbformat_minor": 0,
  "metadata": {
    "colab": {
      "name": "IML_LAB_EXP10_ASHA.ipynb",
      "provenance": []
    },
    "kernelspec": {
      "name": "python3",
      "display_name": "Python 3"
    },
    "language_info": {
      "name": "python"
    }
  },
  "cells": [
    {
      "cell_type": "code",
      "metadata": {
        "colab": {
          "base_uri": "https://localhost:8080/"
        },
        "id": "PStV6udouB_M",
        "outputId": "d67dd9c1-322b-49b8-9181-648e5f36db62"
      },
      "source": [
        "import numpy as np\n",
        "import matplotlib.pyplot as plt\n",
        "from matplotlib import style\n",
        "style.use(\"ggplot\")\n",
        "\n",
        "from sklearn.cluster import KMeans\n",
        "X2= np.array([[1.713,1.586],[0.18,1.786],[0.353,1.24],[0.94,1.566],[1.486,0.759],[1.266,1.106],[1.54,0.419],[0.459,1.799],[0.773,0.186],[0.906,0.606]])\n",
        "print(X2)"
      ],
      "execution_count": null,
      "outputs": [
        {
          "output_type": "stream",
          "text": [
            "[[1.713 1.586]\n",
            " [0.18  1.786]\n",
            " [0.353 1.24 ]\n",
            " [0.94  1.566]\n",
            " [1.486 0.759]\n",
            " [1.266 1.106]\n",
            " [1.54  0.419]\n",
            " [0.459 1.799]\n",
            " [0.773 0.186]\n",
            " [0.906 0.606]]\n"
          ],
          "name": "stdout"
        }
      ]
    },
    {
      "cell_type": "code",
      "metadata": {
        "colab": {
          "base_uri": "https://localhost:8080/"
        },
        "id": "2GkX_e0buLTw",
        "outputId": "aacac979-9a1a-4dd2-e2e2-61baeb7d6f1e"
      },
      "source": [
        "kmeans = KMeans(n_clusters=3,random_state=2)\n",
        "kmeans.fit(X2)\n",
        "\n",
        "centroid = kmeans.cluster_centers_\n",
        "labels = kmeans.labels_\n",
        "\n",
        "print(centroid)\n",
        "print(labels)"
      ],
      "execution_count": null,
      "outputs": [
        {
          "output_type": "stream",
          "text": [
            "[[1.30633333 1.41933333]\n",
            " [1.17625    0.4925    ]\n",
            " [0.33066667 1.60833333]]\n",
            "[0 2 2 0 1 0 1 2 1 1]\n"
          ],
          "name": "stdout"
        }
      ]
    },
    {
      "cell_type": "code",
      "metadata": {
        "colab": {
          "base_uri": "https://localhost:8080/",
          "height": 427
        },
        "id": "TnQK_26suQiW",
        "outputId": "ebf2729f-6328-424c-b1bf-aeee04a0dbd2"
      },
      "source": [
        "colors = [\"g.\",\"r.\",\"c.\"]\n",
        "\n",
        "for i in range(len(X2)):\n",
        "   print (\"coordinate:\" , X2[i], \"label:\", labels[i])\n",
        "   plt.plot(X2[i][0],X2[i][1],colors[labels[i]],markersize=20)\n",
        "\n",
        "plt.scatter(centroid[:,0],centroid[:,1], marker = \"x\", s=200, linewidths = 5, zorder =20)\n",
        "\n",
        "plt.show()"
      ],
      "execution_count": null,
      "outputs": [
        {
          "output_type": "stream",
          "text": [
            "coordinate: [1.713 1.586] label: 0\n",
            "coordinate: [0.18  1.786] label: 2\n",
            "coordinate: [0.353 1.24 ] label: 2\n",
            "coordinate: [0.94  1.566] label: 0\n",
            "coordinate: [1.486 0.759] label: 1\n",
            "coordinate: [1.266 1.106] label: 0\n",
            "coordinate: [1.54  0.419] label: 1\n",
            "coordinate: [0.459 1.799] label: 2\n",
            "coordinate: [0.773 0.186] label: 1\n",
            "coordinate: [0.906 0.606] label: 1\n"
          ],
          "name": "stdout"
        },
        {
          "output_type": "display_data",
          "data": {
            "image/png": "[encoded data removed]",
            "text/plain": [
              "<Figure size 432x288 with 1 Axes>"
            ]
          },
          "metadata": {
            "tags": [],
            "needs_background": "light"
          }
        }
      ]
    }
  ]
}