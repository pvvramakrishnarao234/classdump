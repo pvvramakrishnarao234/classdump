{
  "nbformat": 4,
  "nbformat_minor": 0,
  "metadata": {
    "colab": {
      "name": "20BD1A6612-ML-Exp-1.ipynb",
      "provenance": [],
      "collapsed_sections": [],
      "include_colab_link": true
    },
    "kernelspec": {
      "name": "python3",
      "display_name": "Python 3"
    },
    "language_info": {
      "name": "python"
    }
  },
  "cells": [
    {
      "cell_type": "markdown",
      "metadata": {
        "id": "view-in-github",
        "colab_type": "text"
      },
      "source": [
        "<a href=\"https://colab.research.google.com/github/pvvramakrishnarao234/classdump/blob/main/20BD1A6640_ML_Exp_1.ipynb\" target=\"_parent\"><img src=\"https://colab.research.google.com/assets/colab-badge.svg\" alt=\"Open In Colab\"/></a>"
      ]
    },
    {
      "cell_type": "code",
      "execution_count": null,
      "metadata": {
        "id": "qPWsSCus9Bcv"
      },
      "outputs": [],
      "source": [
        "a=2\n",
        "b=3.0\n",
        "c=\"Hello\"\n",
        "d=5\n",
        "e=6.57\n",
        "f=\"World\"\n",
        "g='g'"
      ]
    },
    {
      "cell_type": "code",
      "source": [
        "print(a,type(a))\n",
        "print(b,type(b))\n",
        "print(c,type(c))\n",
        "print(g,type(g))"
      ],
      "metadata": {
        "colab": {
          "base_uri": "https://localhost:8080/"
        },
        "id": "X8VG4yea_IQr",
        "outputId": "27a4a7ee-6fd9-499d-991b-96731ebc60b6"
      },
      "execution_count": null,
      "outputs": [
        {
          "output_type": "stream",
          "name": "stdout",
          "text": [
            "2 <class 'int'>\n",
            "3.0 <class 'float'>\n",
            "Hello <class 'str'>\n",
            "g <class 'str'>\n"
          ]
        }
      ]
    },
    {
      "cell_type": "code",
      "source": [
        "print(f\"Sum of 2 and 5 is {a+d}\")\n",
        "print(f\"Sum of 2 and 3.0 is {a+b}\")\n",
        "print(f\"Sum of strings {c+f}\")"
      ],
      "metadata": {
        "colab": {
          "base_uri": "https://localhost:8080/"
        },
        "id": "szEo_cxN-Hdf",
        "outputId": "567644cc-0b93-4aa4-bc2c-f0c3916c7118"
      },
      "execution_count": null,
      "outputs": [
        {
          "output_type": "stream",
          "name": "stdout",
          "text": [
            "Sum of 2 and 5 is 7\n",
            "Sum of 2 and 3.0 is 5.0\n",
            "Sum of strings HelloWorld\n",
            "Product of int and float is 32.85\n",
            "Product of int and int is 10\n"
          ]
        }
      ]
    },
    {
      "cell_type": "code",
      "source": [
        "print(f\"Difference of integer and integer is {a-d}\")\n",
        "print(f\"Differnce of float and integer is {e-d}\")\n",
        "print(f\"String multiplication {c*3}\")"
      ],
      "metadata": {
        "colab": {
          "base_uri": "https://localhost:8080/"
        },
        "id": "ON0dNybQ_pBT",
        "outputId": "2d28f936-ef74-419d-e1d3-cca4461d7790"
      },
      "execution_count": null,
      "outputs": [
        {
          "output_type": "stream",
          "name": "stdout",
          "text": [
            "Difference of integer and integer is -3\n",
            "Differnce of float and integer is 1.5700000000000003\n",
            "String multiplication HelloHelloHello\n"
          ]
        }
      ]
    },
    {
      "cell_type": "code",
      "source": [
        "import math\n",
        "a=10\n",
        "b=20"
      ],
      "metadata": {
        "id": "ZqsT8b85AS3H"
      },
      "execution_count": null,
      "outputs": []
    },
    {
      "cell_type": "code",
      "source": [
        "print(f\"Addition is {a+b}\")\n",
        "print(f\"Subtarction is {a-b}\")\n",
        "print(f\"Multiplication is {a*b}\")\n",
        "print(f\"Division is {a/b}\")\n",
        "print(f\"Floor division is {a//b}\")"
      ],
      "metadata": {
        "colab": {
          "base_uri": "https://localhost:8080/"
        },
        "id": "DezpXqqhCOtm",
        "outputId": "2d8f25e2-e3e9-4e7c-99ef-3f18337695cd"
      },
      "execution_count": null,
      "outputs": [
        {
          "output_type": "stream",
          "name": "stdout",
          "text": [
            "Addition is 5.0\n",
            "Subtarction is -1.0\n",
            "Multiplication is 6.0\n",
            "Division is 0.6666666666666666\n",
            "Floor division is 0.0\n"
          ]
        }
      ]
    },
    {
      "cell_type": "code",
      "source": [
        "print(f\"Bitwise or of a and b is {a|b}\")\n",
        "print(f\"Bitwise and of a and b is {a&b}\")\n",
        "print(f\"Logical and of a and b is {a and b}\")\n",
        "print(f\"Logical or of a and b is {a or b}\")"
      ],
      "metadata": {
        "colab": {
          "base_uri": "https://localhost:8080/"
        },
        "id": "A_YIKM78IIvl",
        "outputId": "8ed8ca9a-b9b8-4856-a208-4f3c07b0c6f7"
      },
      "execution_count": null,
      "outputs": [
        {
          "output_type": "stream",
          "name": "stdout",
          "text": [
            "Bitwise or of a and b is 30\n",
            "Bitwise and of a and b is 0\n",
            "Logical and of a and b is 20\n",
            "Logical or of a and b is 10\n"
          ]
        }
      ]
    },
    {
      "cell_type": "code",
      "source": [
        "print(f\"GCD of a and b is {math.gcd(a,b)}\")\n",
        "print(f\"logarithm is {math.log(a)}\")"
      ],
      "metadata": {
        "colab": {
          "base_uri": "https://localhost:8080/"
        },
        "id": "Z_-ra5gMDt17",
        "outputId": "206c16f1-8e15-4116-9e9f-3b8f1a1e2f85"
      },
      "execution_count": null,
      "outputs": [
        {
          "output_type": "stream",
          "name": "stdout",
          "text": [
            "GCD of a and b is 10\n",
            "logarithm is 2.302585092994046\n"
          ]
        }
      ]
    },
    {
      "cell_type": "code",
      "source": [
        "l=[1,2,3,4,5,6]"
      ],
      "metadata": {
        "id": "0wKeVlXyE95f"
      },
      "execution_count": null,
      "outputs": []
    },
    {
      "cell_type": "code",
      "source": [
        "print(f\"Length of list is {len(l)}\")\n",
        "print(f\"Sum of elements in a list {sum(l)}\")\n",
        "print(f\"Max element in list is {max(l)}\")\n",
        "print(f\"Min element in a list {min(l)}\")\n",
        "l.remove(5)\n",
        "print(f\"List after removing last element is {l}\")"
      ],
      "metadata": {
        "colab": {
          "base_uri": "https://localhost:8080/"
        },
        "id": "kV-WnmccFDA6",
        "outputId": "6cf189f1-c937-4500-84ff-06fd3c460236"
      },
      "execution_count": null,
      "outputs": [
        {
          "output_type": "stream",
          "name": "stdout",
          "text": [
            "Length of list is 6\n",
            "Sum of elements in a list 21\n",
            "Max element in list is 6\n",
            "Min element in a list 1\n",
            "List after removing last element is [1, 2, 3, 4, 6]\n"
          ]
        }
      ]
    },
    {
      "cell_type": "code",
      "source": [
        "print(\"List slicing--->\")\n",
        "print(f\"First element in the list {l[0]}\")\n",
        "print(f\"Last element in the list {l[-1]}\")\n",
        "print(f\"Second to fifth elements in the list {l[2:6]}\")\n",
        "print(f\"Reversed list is {l[::-1]}\")"
      ],
      "metadata": {
        "colab": {
          "base_uri": "https://localhost:8080/"
        },
        "id": "vZOprHOPFXmD",
        "outputId": "37a1ed74-1ad0-46c5-a32a-1fb382adb590"
      },
      "execution_count": null,
      "outputs": [
        {
          "output_type": "stream",
          "name": "stdout",
          "text": [
            "List slicing--->\n",
            "First element in the list 1\n",
            "Last element in the list 6\n",
            "Second to fifth elements in the list [3, 4, 6]\n",
            "Reversed list is [6, 4, 3, 2, 1]\n"
          ]
        }
      ]
    },
    {
      "cell_type": "code",
      "source": [
        "d={1:\"One\",2:\"Two\",3:\"Three\",4:\"Four\",5:\"Five\"}\n",
        "print(d)"
      ],
      "metadata": {
        "colab": {
          "base_uri": "https://localhost:8080/"
        },
        "id": "ppV0JDyjFxww",
        "outputId": "87c08a7d-c65d-41f8-bd37-e2adf9925f2c"
      },
      "execution_count": null,
      "outputs": [
        {
          "output_type": "stream",
          "name": "stdout",
          "text": [
            "{1: 'One', 2: 'Two', 3: 'Three', 4: 'Four', 5: 'Five'}\n"
          ]
        }
      ]
    },
    {
      "cell_type": "code",
      "source": [
        "d[6]=\"Six\"\n",
        "print(\"After updating the dictionary is: \")\n",
        "print(d)"
      ],
      "metadata": {
        "colab": {
          "base_uri": "https://localhost:8080/"
        },
        "id": "a1WErWnSS0i6",
        "outputId": "06ecb54a-e088-4338-80f0-27aeb6edc33c"
      },
      "execution_count": null,
      "outputs": [
        {
          "output_type": "stream",
          "name": "stdout",
          "text": [
            "After updating the dictionary is: \n",
            "{1: 'One', 2: 'Two', 3: 'Three', 4: 'Four', 5: 'Five', 6: 'Six'}\n"
          ]
        }
      ]
    },
    {
      "cell_type": "code",
      "source": [
        "del d[1]\n",
        "print(\"After deleting the first key-value pair the dictionary is \")\n",
        "d"
      ],
      "metadata": {
        "colab": {
          "base_uri": "https://localhost:8080/"
        },
        "id": "4SRgbOg2TH70",
        "outputId": "116de697-5c51-4bea-83ff-e90496a13d2f"
      },
      "execution_count": null,
      "outputs": [
        {
          "output_type": "stream",
          "name": "stdout",
          "text": [
            "After deleting the first key-value pair the dictionary is \n"
          ]
        },
        {
          "output_type": "execute_result",
          "data": {
            "text/plain": [
              "{2: 'Two', 3: 'Three', 4: 'Four', 5: 'Five', 6: 'Six'}"
            ]
          },
          "metadata": {},
          "execution_count": 7
        }
      ]
    },
    {
      "cell_type": "code",
      "source": [
        "print(\"---Strings---\")\n",
        "s1=\"Hello\"\n",
        "s2=\"World\"\n",
        "s3=s1+\" \"+s2"
      ],
      "metadata": {
        "colab": {
          "base_uri": "https://localhost:8080/"
        },
        "id": "eoiX6e5JTpXt",
        "outputId": "65b78346-d7c3-4e72-e2ed-edcc922b3041"
      },
      "execution_count": null,
      "outputs": [
        {
          "output_type": "stream",
          "name": "stdout",
          "text": [
            "---Strings---\n"
          ]
        }
      ]
    },
    {
      "cell_type": "code",
      "source": [
        "print(f\"Concatenation of two strings hello and world is {s3}\")\n",
        "print(f\"Fisrt character of s3={s3[0]}\")\n",
        "print(f\"Sub-string starting from 2nd char to 5th char is {s3[2:6]}\")\n",
        "print(f\"Last character is {s3[-1]}\")"
      ],
      "metadata": {
        "colab": {
          "base_uri": "https://localhost:8080/"
        },
        "id": "AgegdQQ7T3K5",
        "outputId": "f4d17de3-3891-44ee-a9e3-3c0f52d06601"
      },
      "execution_count": null,
      "outputs": [
        {
          "output_type": "stream",
          "name": "stdout",
          "text": [
            "Concatenation of two strings hello and world is Hello World\n",
            "Fisrt character of s3=H\n",
            "Sub-string starting from 2nd char to 5th char is llo \n",
            "Last character is d\n"
          ]
        }
      ]
    },
    {
      "cell_type": "code",
      "source": [
        "print(\"-----Tuples-----\")\n",
        "t=(\"Red\",\"Blue\",\"Green\",\"Black\",\"Yellow\",\"Orange\")\n",
        "print(t,type(t))"
      ],
      "metadata": {
        "colab": {
          "base_uri": "https://localhost:8080/"
        },
        "id": "OMwP5fiqUtIo",
        "outputId": "6d317057-27fc-47be-82d4-027d3c414982"
      },
      "execution_count": null,
      "outputs": [
        {
          "output_type": "stream",
          "name": "stdout",
          "text": [
            "-----Tuples-----\n",
            "('Red', 'Blue', 'Green', 'Black', 'Yellow', 'Orange') <class 'tuple'>\n"
          ]
        }
      ]
    },
    {
      "cell_type": "code",
      "source": [
        "print(f\"length of the tuple is {len(t)}\")\n",
        "print(f\"First member of the tuple {t[0]}\")\n",
        "print(f\"Last member of the tuple {t[-1]}\")\n",
        "print(f\"Tuple elements from 2nd to 5th are {t[2:6]}\")"
      ],
      "metadata": {
        "colab": {
          "base_uri": "https://localhost:8080/"
        },
        "id": "QxUqWltZVKnT",
        "outputId": "46031f6f-6976-4af9-edd1-0079eff2b8b8"
      },
      "execution_count": null,
      "outputs": [
        {
          "output_type": "stream",
          "name": "stdout",
          "text": [
            "length of the tuple is 6\n",
            "First member of the tuple Red\n",
            "Last member of the tuple Orange\n",
            "Tuple elements from 2nd to 5th are ('Green', 'Black', 'Yellow', 'Orange')\n"
          ]
        }
      ]
    },
    {
      "cell_type": "code",
      "source": [
        "s=(\"White\",)\n",
        "t+=s\n",
        "print(f\"Updated tuple after adding white is {t}\")"
      ],
      "metadata": {
        "colab": {
          "base_uri": "https://localhost:8080/"
        },
        "id": "UBLUSrDDWl3f",
        "outputId": "be1208e5-2fd6-483b-f9a2-3b6ed073d171"
      },
      "execution_count": null,
      "outputs": [
        {
          "output_type": "stream",
          "name": "stdout",
          "text": [
            "Updated tuple after adding white is ('Red', 'Blue', 'Green', 'Black', 'Yellow', 'Orange', 'White')\n"
          ]
        }
      ]
    },
    {
      "cell_type": "code",
      "source": [
        "y=list(t)\n",
        "y.remove(\"Green\")\n",
        "t=tuple(y)\n",
        "print(f\"After deleting green new tuple is {t}\")"
      ],
      "metadata": {
        "colab": {
          "base_uri": "https://localhost:8080/"
        },
        "id": "gq7P9tvzXXhl",
        "outputId": "43d6be24-4753-482c-e719-04f83ea54fa3"
      },
      "execution_count": null,
      "outputs": [
        {
          "output_type": "stream",
          "name": "stdout",
          "text": [
            "After deleting green new tuple is ('Red', 'Blue', 'Black', 'Yellow', 'Orange', 'White')\n"
          ]
        }
      ]
    }
  ]
}