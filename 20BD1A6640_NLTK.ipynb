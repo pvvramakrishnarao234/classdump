{
  "nbformat": 4,
  "nbformat_minor": 0,
  "metadata": {
    "colab": {
      "provenance": [],
      "include_colab_link": true
    },
    "kernelspec": {
      "name": "python3",
      "display_name": "Python 3"
    },
    "language_info": {
      "name": "python"
    }
  },
  "cells": [
    {
      "cell_type": "markdown",
      "metadata": {
        "id": "view-in-github",
        "colab_type": "text"
      },
      "source": [
        "<a href=\"https://colab.research.google.com/github/pvvramakrishnarao234/classdump/blob/main/20BD1A6640_NLTK.ipynb\" target=\"_parent\"><img src=\"https://colab.research.google.com/assets/colab-badge.svg\" alt=\"Open In Colab\"/></a>"
      ]
    },
    {
      "cell_type": "markdown",
      "source": [
        "**Import nltk and download the ‘stopwords’ and ‘punkt’ packages.**"
      ],
      "metadata": {
        "id": "XdqVVHQRaEyn"
      }
    },
    {
      "cell_type": "code",
      "execution_count": null,
      "metadata": {
        "id": "e4v9vFoNZH5k"
      },
      "outputs": [],
      "source": [
        "import nltk\n",
        "dir(nltk)"
      ]
    },
    {
      "cell_type": "code",
      "source": [
        "nltk.download('punkt')\n",
        "nltk.download('stopwords')"
      ],
      "metadata": {
        "colab": {
          "base_uri": "https://localhost:8080/"
        },
        "id": "35vCTzAtn66o",
        "outputId": "2e9e9efe-c5a5-406c-ee9b-1b73b2d86f38"
      },
      "execution_count": null,
      "outputs": [
        {
          "output_type": "stream",
          "name": "stderr",
          "text": [
            "[nltk_data] Downloading package punkt to /root/nltk_data...\n",
            "[nltk_data]   Package punkt is already up-to-date!\n",
            "[nltk_data] Downloading package stopwords to /root/nltk_data...\n",
            "[nltk_data]   Package stopwords is already up-to-date!\n"
          ]
        },
        {
          "output_type": "execute_result",
          "data": {
            "text/plain": [
              "True"
            ]
          },
          "metadata": {},
          "execution_count": 22
        }
      ]
    },
    {
      "cell_type": "code",
      "source": [
        "nltk.download()"
      ],
      "metadata": {
        "id": "noDagr6WZdPs"
      },
      "execution_count": null,
      "outputs": []
    },
    {
      "cell_type": "markdown",
      "source": [
        "**How to tokenize a given text using NLTK?**\n",
        "\n",
        "Input :\n",
        "text=\"Last week, the University of Cambridge shared its own research thatshows if everyone wears a mask outside home,dreaded ‘second wave’ of the pandemic can be avoided\"\n",
        "\n"
      ],
      "metadata": {
        "id": "UBIZNC8jaHkv"
      }
    },
    {
      "cell_type": "code",
      "source": [
        "from nltk.tokenize import word_tokenize\n",
        "from nltk.tokenize import sent_tokenize"
      ],
      "metadata": {
        "id": "ojQ7yWkqoYwo"
      },
      "execution_count": null,
      "outputs": []
    },
    {
      "cell_type": "code",
      "source": [
        "text1=\"Last week, the University of Cambridge shared its own research thatshows if everyone wears a mask outside home,dreaded ‘second wave’ of the pandemic can be avoided\"\n",
        "text1"
      ],
      "metadata": {
        "colab": {
          "base_uri": "https://localhost:8080/",
          "height": 36
        },
        "id": "YPzmT43zogNO",
        "outputId": "d6418abd-fd21-4534-94f9-5789a19a6760"
      },
      "execution_count": null,
      "outputs": [
        {
          "output_type": "execute_result",
          "data": {
            "text/plain": [
              "'Last week, the University of Cambridge shared its own research thatshows if everyone wears a mask outside home,dreaded ‘second wave’ of the pandemic can be avoided'"
            ],
            "application/vnd.google.colaboratory.intrinsic+json": {
              "type": "string"
            }
          },
          "metadata": {},
          "execution_count": 4
        }
      ]
    },
    {
      "cell_type": "code",
      "source": [
        "sent_tokenize(text1)"
      ],
      "metadata": {
        "colab": {
          "base_uri": "https://localhost:8080/"
        },
        "id": "c3DzvHUBotSg",
        "outputId": "6886f98b-b62d-4aaa-ba32-3b187211adff"
      },
      "execution_count": null,
      "outputs": [
        {
          "output_type": "execute_result",
          "data": {
            "text/plain": [
              "['Last week, the University of Cambridge shared its own research thatshows if everyone wears a mask outside home,dreaded ‘second wave’ of the pandemic can be avoided']"
            ]
          },
          "metadata": {},
          "execution_count": 6
        }
      ]
    },
    {
      "cell_type": "code",
      "source": [
        "PunkToken=nltk.tokenize.punkt.PunktSentenceTokenizer()\n",
        "PunkToken.tokenize(text1)"
      ],
      "metadata": {
        "colab": {
          "base_uri": "https://localhost:8080/"
        },
        "id": "2rgvQcJBo2Ie",
        "outputId": "3ab7cf99-9edb-4bbd-f2ad-db5dd4e341b1"
      },
      "execution_count": null,
      "outputs": [
        {
          "output_type": "execute_result",
          "data": {
            "text/plain": [
              "['Last week, the University of Cambridge shared its own research thatshows if everyone wears a mask outside home,dreaded ‘second wave’ of the pandemic can be avoided']"
            ]
          },
          "metadata": {},
          "execution_count": 7
        }
      ]
    },
    {
      "cell_type": "markdown",
      "source": [
        "**How to get the sentences of a text document using NLTK ?**\n",
        "\n",
        "Input :\n",
        "\n",
        "text=\"\"\"The outbreak of coronavirus disease 2019 (COVID-19) has created a global health crisis that has had a deep impact on the way we perceive our world and our everyday lives. Not only the rate of contagion and patterns of transmission threatens our sense of agency, but the safety measures put in place to contain the spread of the virus also require social distancing by refraining from doing what is inherently human, which is to find solace in the company of others. Within this context of physical threat, social and physical distancing, as well as public alarm, what has been (and can be) the role of the different mass media channels in our lives on individual, social and societal levels? Mass media have long been recognized as powerful forces shaping how we experience the world and ourselves. This recognition is accompanied by a growing volume of research, that closely follows the footsteps of technological transformations\"\n"
      ],
      "metadata": {
        "id": "mUPUXTXhaisb"
      }
    },
    {
      "cell_type": "code",
      "source": [
        "from nltk.tokenize import word_tokenize\n",
        "from nltk.tokenize import sent_tokenize"
      ],
      "metadata": {
        "id": "5rE0ZPkduTqP"
      },
      "execution_count": null,
      "outputs": []
    },
    {
      "cell_type": "code",
      "source": [
        "text=\"\"\"The outbreak of coronavirus disease 2019 (COVID-19) has created a global health crisis that h\n",
        "as had a deep impact on the way we perceive our world and our everyday lives. Not only the rate of contagion and \n",
        "patterns of transmission threatens our sense of agency, but the safety measures put in place to contain the spread of the virus als\n",
        "o require social distancing by refraining from doing what is inherently human, which is to find solace in the company of others. Within this context of\n",
        " physical threat, social and physical distancing, as well as public alarm, what has been (and can be) the role of the different mass media channels in our lives on individual,\n",
        "  social and societal levels? Mass media have long been recognized as powerful forces shaping how we experience\n",
        " the world and ourselves. This recognition is accompanied by a growing volume of research, that closely follows the footsteps of technological transformations\"\"\"\n",
        "word_tokenize(text)"
      ],
      "metadata": {
        "id": "MSniDjBSvm3B"
      },
      "execution_count": null,
      "outputs": []
    },
    {
      "cell_type": "markdown",
      "source": [
        "**How to remove stop words in a text using NLTK?**\n",
        "\n",
        "Input :\n",
        "\n",
        "text=\"\"\"the outbreak of coronavirus disease 2019 (COVID-19) has created a global health crisis that has had a deep impact on the way we perceive our world and our everyday lives. Not only the rate of contagion and patterns of transmission threatens our sense of agency, but the safety measures put in place to contain the spread of the virus also require social distancing by refraining from doing what is inherently human, which is to find solace in the company of others. Within this context of physical threat, social and physical distancing, as well as public alarm, what has been (and can be) the role of the different mass media channels in our lives on individual, social and societal levels? Mass media have long been recognized as powerful forces shaping how we experience the world and ourselves. This recognition is accompanied by a growing volume of research, that closely follows the footsteps of technological transformations (e.g. radio, movies, television, the internet, mobiles) and the zeitgeist (e.g. cold war, 9/11, climate change) in an attempt to map mass media major impacts on how we perceive ourselves, both as individuals and citizens. Are media (broadcast and digital) still able to convey a sense of unity reaching large audiences, or are messages lost in the noisy crowd of mass self-communication? \"\"\"\n"
      ],
      "metadata": {
        "id": "gByglaLiaxMt"
      }
    },
    {
      "cell_type": "code",
      "source": [
        "nltk.download('stopwords')"
      ],
      "metadata": {
        "id": "7L4h547iap2X",
        "colab": {
          "base_uri": "https://localhost:8080/"
        },
        "outputId": "f8f37fda-639d-47f1-df14-34b97d48af96"
      },
      "execution_count": null,
      "outputs": [
        {
          "output_type": "stream",
          "name": "stderr",
          "text": [
            "[nltk_data] Downloading package stopwords to /root/nltk_data...\n",
            "[nltk_data]   Package stopwords is already up-to-date!\n"
          ]
        },
        {
          "output_type": "execute_result",
          "data": {
            "text/plain": [
              "True"
            ]
          },
          "metadata": {},
          "execution_count": 16
        }
      ]
    },
    {
      "cell_type": "code",
      "source": [
        "from nltk.corpus import stopwords\n",
        "stopwords_english=stopwords.words('english')\n"
      ],
      "metadata": {
        "id": "-bxenMVvttcv"
      },
      "execution_count": null,
      "outputs": []
    },
    {
      "cell_type": "code",
      "source": [
        "text=\"\"\"the outbreak of coronavirus disease 2019 (COVID-19) has created a global health crisis that has had a deep impact on the way we perceive our world and our everyday lives. Not only the rate of contagion and patterns of transmission threatens our sense of agency, but the safety measures put in place to contain the spread of the virus also require social distancing by refraining from doing what is inherently human, which is to find solace in the company of others. Within this context of physical threat, social and physical distancing, as well as public alarm, what has been (and can be) the role of the different mass media channels in our lives on individual, social and societal levels? Mass media have long been recognized as powerful forces shaping how we experience the world and ourselves. This recognition is accompanied by a growing volume of research, that closely follows the footsteps of technological transformations (e.g. radio, movies, television, the internet, mobiles) and the zeitgeist (e.g. cold war, 9/11, climate change) in an attempt to map mass media major impacts on how we perceive ourselves, both as individuals and citizens. Are media (broadcast and digital) still able to convey a sense of unity reaching large audiences, or are messages lost in the noisy crowd of mass self-communication? \"\"\"\n",
        "text1=word_tokenize(text)\n",
        "sent=[i for i in text1 if i not in stopwords_english]\n",
        "sent"
      ],
      "metadata": {
        "id": "IJJ1Nd5ut2VN"
      },
      "execution_count": null,
      "outputs": []
    },
    {
      "cell_type": "markdown",
      "source": [
        "**How to perform stemming using NLTK**\n",
        "\n",
        "Input :\n",
        "\n",
        "text= \"Dancing is an art. Students should be taught dance as a subject in schools . I danced in many of my school function. Some people are always hesitating to dance.\"\n"
      ],
      "metadata": {
        "id": "m9tFOicobNzs"
      }
    },
    {
      "cell_type": "code",
      "source": [
        "from nltk.stem import PorterStemmer\n",
        "text= \"Dancing is an art. Students should be taught dance as a subject in schools . I danced in many of my school function. Some people are always hesitating to dance.\"\n",
        "stemmer=PorterStemmer()\n",
        "text1=word_tokenize(text)\n",
        "l1=[]\n",
        "for w in text1:\n",
        "     stem_text=stemmer.stem(w)\n",
        "     l1.append(stem_text)\n",
        "l1"
      ],
      "metadata": {
        "id": "j3BC5Jc8Zshs",
        "colab": {
          "base_uri": "https://localhost:8080/"
        },
        "outputId": "21ebea52-0466-442d-871f-3064937ddc5c"
      },
      "execution_count": null,
      "outputs": [
        {
          "output_type": "execute_result",
          "data": {
            "text/plain": [
              "['danc',\n",
              " 'is',\n",
              " 'an',\n",
              " 'art',\n",
              " '.',\n",
              " 'student',\n",
              " 'should',\n",
              " 'be',\n",
              " 'taught',\n",
              " 'danc',\n",
              " 'as',\n",
              " 'a',\n",
              " 'subject',\n",
              " 'in',\n",
              " 'school',\n",
              " '.',\n",
              " 'i',\n",
              " 'danc',\n",
              " 'in',\n",
              " 'mani',\n",
              " 'of',\n",
              " 'my',\n",
              " 'school',\n",
              " 'function',\n",
              " '.',\n",
              " 'some',\n",
              " 'peopl',\n",
              " 'are',\n",
              " 'alway',\n",
              " 'hesit',\n",
              " 'to',\n",
              " 'danc',\n",
              " '.']"
            ]
          },
          "metadata": {},
          "execution_count": 12
        }
      ]
    },
    {
      "cell_type": "markdown",
      "source": [
        "**How to lemmatize a given text using NLTK?**\n",
        "\n",
        "Input:\n",
        "\n",
        "text= \"Dancing is an art. Students should be taught dance as a subject in schools . I danced in many of my school function. Some people are always hesitating to dance.\"\n"
      ],
      "metadata": {
        "id": "OEpoHdFtbcOR"
      }
    },
    {
      "cell_type": "code",
      "source": [
        "from nltk.stem import WordNetLemmatizer\n",
        "lemmatizer=WordNetLemmatizer()\n",
        "lemmatizer.lemmatize(\"scarves\")"
      ],
      "metadata": {
        "id": "6GBlYeWbbqCI",
        "colab": {
          "base_uri": "https://localhost:8080/",
          "height": 36
        },
        "outputId": "0e29a1fe-f032-4362-f519-aca68d3de74c"
      },
      "execution_count": null,
      "outputs": [
        {
          "output_type": "execute_result",
          "data": {
            "text/plain": [
              "'scarf'"
            ],
            "application/vnd.google.colaboratory.intrinsic+json": {
              "type": "string"
            }
          },
          "metadata": {},
          "execution_count": 13
        }
      ]
    },
    {
      "cell_type": "code",
      "source": [
        "text= \"Dancing is an art. Students should be taught dance as a subject in schools . I danced in many of my school function. Some people are always hesitating to dance.\"\n",
        "text1=word_tokenize(text)\n",
        "l1=[]\n",
        "for w in text1:\n",
        "     stem_text=lemmatizer.lemmatize(w,pos='v')\n",
        "     l1.append(stem_text)\n",
        "l1"
      ],
      "metadata": {
        "colab": {
          "base_uri": "https://localhost:8080/"
        },
        "id": "mzsnRYUas4_h",
        "outputId": "ff724c63-a3eb-473e-9146-8cffc9308682"
      },
      "execution_count": null,
      "outputs": [
        {
          "output_type": "execute_result",
          "data": {
            "text/plain": [
              "['Dancing',\n",
              " 'be',\n",
              " 'an',\n",
              " 'art',\n",
              " '.',\n",
              " 'Students',\n",
              " 'should',\n",
              " 'be',\n",
              " 'teach',\n",
              " 'dance',\n",
              " 'as',\n",
              " 'a',\n",
              " 'subject',\n",
              " 'in',\n",
              " 'school',\n",
              " '.',\n",
              " 'I',\n",
              " 'dance',\n",
              " 'in',\n",
              " 'many',\n",
              " 'of',\n",
              " 'my',\n",
              " 'school',\n",
              " 'function',\n",
              " '.',\n",
              " 'Some',\n",
              " 'people',\n",
              " 'be',\n",
              " 'always',\n",
              " 'hesitate',\n",
              " 'to',\n",
              " 'dance',\n",
              " '.']"
            ]
          },
          "metadata": {},
          "execution_count": 15
        }
      ]
    }
  ]
}