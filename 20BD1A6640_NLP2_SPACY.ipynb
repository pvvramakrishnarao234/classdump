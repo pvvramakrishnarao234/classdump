{
  "nbformat": 4,
  "nbformat_minor": 0,
  "metadata": {
    "colab": {
      "provenance": [],
      "include_colab_link": true
    },
    "kernelspec": {
      "name": "python3",
      "display_name": "Python 3"
    },
    "language_info": {
      "name": "python"
    }
  },
  "cells": [
    {
      "cell_type": "markdown",
      "metadata": {
        "id": "view-in-github",
        "colab_type": "text"
      },
      "source": [
        "<a href=\"https://colab.research.google.com/github/pvvramakrishnarao234/classdump/blob/main/20BD1A6640_NLP2_SPACY.ipynb\" target=\"_parent\"><img src=\"https://colab.research.google.com/assets/colab-badge.svg\" alt=\"Open In Colab\"/></a>"
      ]
    },
    {
      "cell_type": "code",
      "execution_count": null,
      "metadata": {
        "colab": {
          "base_uri": "https://localhost:8080/"
        },
        "id": "-FL5eE-MTY1i",
        "outputId": "07c33b41-5491-49ae-b71a-0f11714af00e"
      },
      "outputs": [
        {
          "output_type": "stream",
          "name": "stderr",
          "text": [
            "/usr/local/lib/python3.8/dist-packages/torch/cuda/__init__.py:497: UserWarning: Can't initialize NVML\n",
            "  warnings.warn(\"Can't initialize NVML\")\n"
          ]
        }
      ],
      "source": [
        "import spacy"
      ]
    },
    {
      "cell_type": "code",
      "source": [
        "dir(spacy)"
      ],
      "metadata": {
        "colab": {
          "base_uri": "https://localhost:8080/"
        },
        "id": "LdXvK5AZTp9j",
        "outputId": "bef0d95e-c31c-47f3-b2d0-a0ff112561b5"
      },
      "execution_count": null,
      "outputs": [
        {
          "output_type": "execute_result",
          "data": {
            "text/plain": [
              "['Any',\n",
              " 'Config',\n",
              " 'Dict',\n",
              " 'Errors',\n",
              " 'Iterable',\n",
              " 'Language',\n",
              " 'Path',\n",
              " 'Union',\n",
              " 'Vocab',\n",
              " '__builtins__',\n",
              " '__cached__',\n",
              " '__doc__',\n",
              " '__file__',\n",
              " '__loader__',\n",
              " '__name__',\n",
              " '__package__',\n",
              " '__path__',\n",
              " '__spec__',\n",
              " '__version__',\n",
              " 'about',\n",
              " 'attrs',\n",
              " 'blank',\n",
              " 'cli',\n",
              " 'compat',\n",
              " 'displacy',\n",
              " 'errors',\n",
              " 'explain',\n",
              " 'git_info',\n",
              " 'glossary',\n",
              " 'info',\n",
              " 'kb',\n",
              " 'lang',\n",
              " 'language',\n",
              " 'lexeme',\n",
              " 'load',\n",
              " 'logger',\n",
              " 'lookups',\n",
              " 'matcher',\n",
              " 'ml',\n",
              " 'morphology',\n",
              " 'parts_of_speech',\n",
              " 'pipe_analysis',\n",
              " 'pipeline',\n",
              " 'prefer_gpu',\n",
              " 'registry',\n",
              " 'require_cpu',\n",
              " 'require_gpu',\n",
              " 'schemas',\n",
              " 'scorer',\n",
              " 'setup_default_warnings',\n",
              " 'strings',\n",
              " 'symbols',\n",
              " 'sys',\n",
              " 'tokenizer',\n",
              " 'tokens',\n",
              " 'training',\n",
              " 'ty',\n",
              " 'util',\n",
              " 'vectors',\n",
              " 'vocab']"
            ]
          },
          "metadata": {},
          "execution_count": 2
        }
      ]
    },
    {
      "cell_type": "code",
      "source": [
        "sp=spacy.load(\"en_core_web_sm\")\n",
        "nlp=spacy.load(\"en_core_web_sm\")\n",
        "nlp.pipe_names"
      ],
      "metadata": {
        "colab": {
          "base_uri": "https://localhost:8080/"
        },
        "id": "A7Cak2UjTuXd",
        "outputId": "e024c893-e74e-445d-e0e9-315fa7bec0c6"
      },
      "execution_count": null,
      "outputs": [
        {
          "output_type": "execute_result",
          "data": {
            "text/plain": [
              "['tok2vec', 'tagger', 'parser', 'attribute_ruler', 'lemmatizer', 'ner']"
            ]
          },
          "metadata": {},
          "execution_count": 3
        }
      ]
    },
    {
      "cell_type": "code",
      "source": [
        "nlp.disable_pipes(\"tagger\",\"parser\")\n",
        "nlp.pipe_names"
      ],
      "metadata": {
        "colab": {
          "base_uri": "https://localhost:8080/"
        },
        "id": "_UFC7WIsT032",
        "outputId": "f73cacee-2856-4549-f0cb-fe0eac76ac38"
      },
      "execution_count": null,
      "outputs": [
        {
          "output_type": "execute_result",
          "data": {
            "text/plain": [
              "['tok2vec', 'attribute_ruler', 'lemmatizer', 'ner']"
            ]
          },
          "metadata": {},
          "execution_count": 4
        }
      ]
    },
    {
      "cell_type": "code",
      "source": [
        "# import en_core_web_sm\n",
        "# nlp=en_core_web_sm.load()\n"
      ],
      "metadata": {
        "id": "ZKCotzgwV83K"
      },
      "execution_count": null,
      "outputs": []
    },
    {
      "cell_type": "code",
      "source": [
        "# from spacy.lang.en import English\n",
        "# nlp=English()\n",
        "#nlp=spacy.blank(\"en\")"
      ],
      "metadata": {
        "id": "YOPYHXoIWQik"
      },
      "execution_count": null,
      "outputs": []
    },
    {
      "cell_type": "code",
      "source": [
        "text=\"Martin J. Thomson is known for his writing skills.He is also good at programing.\"\n",
        "new=text.split(\".\")\n",
        "print(new)"
      ],
      "metadata": {
        "colab": {
          "base_uri": "https://localhost:8080/"
        },
        "id": "1aNDbxaoWa1i",
        "outputId": "ccc2a061-6dd8-4372-8061-52cb4fac6550"
      },
      "execution_count": null,
      "outputs": [
        {
          "output_type": "stream",
          "name": "stdout",
          "text": [
            "['Martin J', ' Thomson is known for his writing skills', 'He is also good at programing', '']\n"
          ]
        }
      ]
    },
    {
      "cell_type": "code",
      "source": [
        "text1=\"Martin J. Thomson is known for his writing skills.He is also good at programing.\"\n",
        "doc=nlp(text1)\n",
        "print(doc.text)"
      ],
      "metadata": {
        "colab": {
          "base_uri": "https://localhost:8080/"
        },
        "id": "iOXRy1yFX-TP",
        "outputId": "db8bd29b-b5cf-4d32-d47b-60223da6e112"
      },
      "execution_count": null,
      "outputs": [
        {
          "output_type": "stream",
          "name": "stdout",
          "text": [
            "Martin J. Thomson is known for his writing skills.He is also good at programing.\n"
          ]
        },
        {
          "output_type": "stream",
          "name": "stderr",
          "text": [
            "/usr/local/lib/python3.8/dist-packages/spacy/pipeline/lemmatizer.py:211: UserWarning: [W108] The rule-based lemmatizer did not find POS annotation for one or more tokens. Check that your pipeline includes components that assign token.pos, typically 'tagger'+'attribute_ruler' or 'morphologizer'.\n",
            "  warnings.warn(Warnings.W108)\n"
          ]
        }
      ]
    },
    {
      "cell_type": "code",
      "source": [
        "nlp=spacy.load(\"en_core_web_sm\")\n",
        "text1=\"I am going to learn NLP efficiently.In future i can crack a NLP based interview\"\n",
        "doc=nlp(text1)\n",
        "for sent in doc.sents:\n",
        "  print(sent.text,\"\\n\")"
      ],
      "metadata": {
        "colab": {
          "base_uri": "https://localhost:8080/"
        },
        "id": "GLQN8ytwZId2",
        "outputId": "848450ce-9d6c-4a7e-fd68-a863d9b42f3d"
      },
      "execution_count": null,
      "outputs": [
        {
          "output_type": "stream",
          "name": "stdout",
          "text": [
            "I am going to learn NLP efficiently. \n",
            "\n",
            "In future i can crack a NLP based interview \n",
            "\n"
          ]
        }
      ]
    },
    {
      "cell_type": "code",
      "source": [
        "for sent in doc.sents:\n",
        "  print(sent.text)\n",
        "  for words in sent:\n",
        "    print(words)"
      ],
      "metadata": {
        "colab": {
          "base_uri": "https://localhost:8080/"
        },
        "id": "2QmD60WmbG6T",
        "outputId": "f0affa7f-0bb8-44dd-b2b0-a81e2f92603d"
      },
      "execution_count": null,
      "outputs": [
        {
          "output_type": "stream",
          "name": "stdout",
          "text": [
            "I am going to learn NLP efficiently.\n",
            "I\n",
            "am\n",
            "going\n",
            "to\n",
            "learn\n",
            "NLP\n",
            "efficiently\n",
            ".\n",
            "In future i can crack a NLP based interview\n",
            "In\n",
            "future\n",
            "i\n",
            "can\n",
            "crack\n",
            "a\n",
            "NLP\n",
            "based\n",
            "interview\n"
          ]
        }
      ]
    },
    {
      "cell_type": "code",
      "source": [
        "sentence6=sp(u'compute computer computed computing')\n",
        "for word in sentence6:\n",
        "  print(word.text,\"---->\",word.lemma_)"
      ],
      "metadata": {
        "colab": {
          "base_uri": "https://localhost:8080/"
        },
        "id": "sH67oZEMbRt3",
        "outputId": "b65c6b7e-fa3e-428d-ab25-4819c6956d1c"
      },
      "execution_count": null,
      "outputs": [
        {
          "output_type": "stream",
          "name": "stdout",
          "text": [
            "compute ----> compute\n",
            "computer ----> computer\n",
            "computed ----> compute\n",
            "computing ----> computing\n"
          ]
        }
      ]
    },
    {
      "cell_type": "code",
      "source": [
        "text1=sp('Martin J. Thomson is known for his writing skills.He is also good at programing.')\n",
        "for word in text1:\n",
        "  print(word.text,\"---->\",word.lemma_)"
      ],
      "metadata": {
        "colab": {
          "base_uri": "https://localhost:8080/"
        },
        "id": "QFI6jlbLdgEv",
        "outputId": "334d5679-6791-4bbb-f4cb-0b2f56c288b4"
      },
      "execution_count": null,
      "outputs": [
        {
          "output_type": "stream",
          "name": "stdout",
          "text": [
            "Martin ----> Martin\n",
            "J. ----> J.\n",
            "Thomson ----> Thomson\n",
            "is ----> be\n",
            "known ----> know\n",
            "for ----> for\n",
            "his ----> his\n",
            "writing ----> writing\n",
            "skills ----> skill\n",
            ". ----> .\n",
            "He ----> he\n",
            "is ----> be\n",
            "also ----> also\n",
            "good ----> good\n",
            "at ----> at\n",
            "programing ----> program\n",
            ". ----> .\n"
          ]
        }
      ]
    },
    {
      "cell_type": "code",
      "source": [
        "sentence7=sp(\"DNA decides what we are,but not who we are. \"\n",
        "\"what we are never changed,but who we are never stop changing. \")\n",
        "for word in sentence7:\n",
        "  print(word.text,\"---->\",word.lemma_)\n"
      ],
      "metadata": {
        "colab": {
          "base_uri": "https://localhost:8080/"
        },
        "id": "cNUvUmioVNeM",
        "outputId": "964c0527-b588-46a1-e72e-2a6f3d59c119"
      },
      "execution_count": null,
      "outputs": [
        {
          "output_type": "stream",
          "name": "stdout",
          "text": [
            "DNA ----> dna\n",
            "decides ----> decide\n",
            "what ----> what\n",
            "we ----> we\n",
            "are ----> be\n",
            ", ----> ,\n",
            "but ----> but\n",
            "not ----> not\n",
            "who ----> who\n",
            "we ----> we\n",
            "are ----> be\n",
            ". ----> .\n",
            "what ----> what\n",
            "we ----> we\n",
            "are ----> be\n",
            "never ----> never\n",
            "changed ----> change\n",
            ", ----> ,\n",
            "but ----> but\n",
            "who ----> who\n",
            "we ----> we\n",
            "are ----> be\n",
            "never ----> never\n",
            "stop ----> stop\n",
            "changing ----> change\n",
            ". ----> .\n"
          ]
        }
      ]
    },
    {
      "cell_type": "code",
      "source": [
        "#POS TAGGING\n",
        "sent1=sp(\"isn't is a contraction @ \")\n",
        "for word in sent1:\n",
        "  print(word.text,\"---\",word.pos_)"
      ],
      "metadata": {
        "colab": {
          "base_uri": "https://localhost:8080/"
        },
        "id": "96ZVPjLpYPmt",
        "outputId": "a493c3de-c6ed-408d-a6af-7907fc8d09e3"
      },
      "execution_count": null,
      "outputs": [
        {
          "output_type": "stream",
          "name": "stdout",
          "text": [
            "is --- AUX\n",
            "n't --- PART\n",
            "is --- AUX\n",
            "a --- DET\n",
            "contraction --- NOUN\n",
            "@ --- ADP\n"
          ]
        }
      ]
    },
    {
      "cell_type": "code",
      "source": [
        "#spacy.explain(\"DET\")\n",
        "spacy.explain(\"PART\")"
      ],
      "metadata": {
        "colab": {
          "base_uri": "https://localhost:8080/",
          "height": 36
        },
        "id": "4tpmgVRxZhuy",
        "outputId": "8728cb56-079b-4186-a681-4a28627d067a"
      },
      "execution_count": null,
      "outputs": [
        {
          "output_type": "execute_result",
          "data": {
            "text/plain": [
              "'particle'"
            ],
            "application/vnd.google.colaboratory.intrinsic+json": {
              "type": "string"
            }
          },
          "metadata": {},
          "execution_count": 23
        }
      ]
    },
    {
      "cell_type": "code",
      "source": [
        "sp=spacy.load('en_core_web_sm')\n",
        "stopwords=sp.Defaults.stop_words\n",
        "print(len(stopwords))\n",
        "print(stopwords)"
      ],
      "metadata": {
        "colab": {
          "base_uri": "https://localhost:8080/"
        },
        "id": "qv2-51hWaAi0",
        "outputId": "3ca7fa06-881b-4b43-c4e9-93ecc5da3e28"
      },
      "execution_count": null,
      "outputs": [
        {
          "output_type": "stream",
          "name": "stdout",
          "text": [
            "326\n",
            "{'almost', 'ours', 'have', 'anyhow', 'during', 'too', 'therein', 'anyway', 'meanwhile', 'onto', 'has', 'their', \"n't\", 'is', 'n’t', 'everywhere', 'am', 'did', '‘s', 'noone', 'five', '’s', 'alone', 'eight', 'six', '’re', 'one', 'give', 'of', 'became', 'if', 'whereupon', 'then', 'to', 'everything', 'or', 'latter', 'in', 'whole', 'fifteen', 'make', 'all', 'both', 'be', 'our', 'always', 'unless', 'amount', 'three', 'keep', 'forty', 'was', 'somehow', 'even', 'serious', 'whereby', 'my', 'ten', 'side', 'someone', 'nevertheless', 'own', 'does', 'least', 'quite', 'two', '’d', 'thence', 'much', 'whose', 'itself', 'sometimes', 'when', 'become', 'about', 'she', 'will', 'say', 'otherwise', 'without', 'upon', \"'ll\", 'name', 'front', 'last', 'various', 'himself', 'among', 'former', 'anywhere', 'due', 'most', 'whence', 'less', 'none', 'hereafter', 'across', 'his', 'until', \"'m\", '’ll', 'against', 'made', 'nowhere', 'where', 'rather', 'for', 'part', 'once', 'hundred', 'using', 'four', 'hereby', 'within', 'whenever', 'everyone', 'this', 'nothing', 'amongst', 'hers', \"'s\", 'behind', 'however', 'you', 'him', 'else', 'into', 'seems', 'few', 'there', 'the', 'back', 'top', 'on', 'never', 'whatever', 'herself', 'themselves', 'enough', 'an', '’ve', 'becoming', 'fifty', 'namely', 'other', 'doing', 'formerly', 'anyone', 'mostly', 'how', 'toward', 'whether', 'get', 'just', 'call', 'n‘t', 're', 'perhaps', 'than', 'something', 'see', 'are', 'next', 'also', 'why', 'seem', 'off', 'i', 'might', 'hereupon', 'which', '’m', '‘ve', 'already', 'hence', 'often', 'some', 'really', 'through', 'yourself', 'beforehand', 'down', 'neither', 'who', 'further', 'whither', '‘re', 'no', 'with', 'thus', 'though', 'twelve', 'me', 'had', 'same', '‘ll', 'as', 'since', 'whoever', 'not', 'thereupon', 'a', 'these', 'us', 'others', 'but', 'nor', 'under', 'beyond', 'herein', 'go', 'bottom', 'yourselves', 'towards', 'it', 'elsewhere', 'should', 'and', 'thereby', 'sometime', 'becomes', 'ever', 'many', 'its', 'somewhere', 'while', 'put', 'regarding', 'such', 'before', 'must', 'throughout', 'via', 'whom', 'here', 'he', 'move', 'out', 'thereafter', 'nine', 'full', \"'re\", 'below', 'take', 'very', 'your', 'whereafter', 'each', 'now', \"'ve\", 'up', 'been', 'therefore', 'over', 'being', 'every', 'except', 'could', 'above', 'what', 'yours', 'empty', 'those', 'show', 'her', 'anything', 'them', 'whereas', 'were', 'ca', 'together', 'another', 'seeming', 'still', 'only', 'besides', 'thru', 'because', 'twenty', 'moreover', 'well', 'sixty', 'please', 'would', 'eleven', 'beside', 'although', 'around', 'first', 'we', 'that', 'do', 'may', 'either', 'seemed', 'afterwards', 'more', 'from', '‘m', 'myself', 'several', 'any', 'again', 'used', 'after', 'between', 'by', '‘d', 'wherever', 'along', 'nobody', 'can', 'wherein', \"'d\", 'indeed', 'latterly', 'so', 'cannot', 'third', 'mine', 'done', 'yet', 'ourselves', 'they', 'at', 'per'}\n"
          ]
        }
      ]
    },
    {
      "cell_type": "code",
      "source": [
        "text1=sp('Martin J. Thomson is known for his writing skills.He is also good at programing.')\n",
        "for token in text1:\n",
        "  print(token.text,\"---\",token.is_stop)"
      ],
      "metadata": {
        "colab": {
          "base_uri": "https://localhost:8080/"
        },
        "id": "FnuFFmAFcBqV",
        "outputId": "4a1b33c3-0c9e-44e7-a2cc-00518eb2291e"
      },
      "execution_count": null,
      "outputs": [
        {
          "output_type": "stream",
          "name": "stdout",
          "text": [
            "Martin --- False\n",
            "J. --- False\n",
            "Thomson --- False\n",
            "is --- True\n",
            "known --- False\n",
            "for --- True\n",
            "his --- True\n",
            "writing --- False\n",
            "skills --- False\n",
            ". --- False\n",
            "He --- True\n",
            "is --- True\n",
            "also --- True\n",
            "good --- False\n",
            "at --- True\n",
            "programing --- False\n",
            ". --- False\n"
          ]
        }
      ]
    },
    {
      "cell_type": "code",
      "source": [
        "#adding stopwords\n",
        "sp.Defaults.stop_words.add(\"my_new_stopword\")\n",
        "sp.Defaults.stop_words.add(\"up\")\n",
        "stopwords=sp.Defaults.stop_words\n",
        "print(len(stopwords))"
      ],
      "metadata": {
        "colab": {
          "base_uri": "https://localhost:8080/"
        },
        "id": "N9A1ap_mcRSU",
        "outputId": "2d0a7a5a-df64-4026-f5ba-8f0da9c843c0"
      },
      "execution_count": null,
      "outputs": [
        {
          "output_type": "stream",
          "name": "stdout",
          "text": [
            "327\n"
          ]
        }
      ]
    },
    {
      "cell_type": "code",
      "source": [
        "#removing stopwords\n",
        "sp.Defaults.stop_words-={\"we\",\"show\",\"my_new_stopword\"}\n",
        "stopwords=sp.Defaults.stop_words\n",
        "len(stopwords)"
      ],
      "metadata": {
        "colab": {
          "base_uri": "https://localhost:8080/"
        },
        "id": "06KwQWV7c18x",
        "outputId": "08870108-7170-40e9-c49c-59f0a43efb5d"
      },
      "execution_count": null,
      "outputs": [
        {
          "output_type": "execute_result",
          "data": {
            "text/plain": [
              "324"
            ]
          },
          "metadata": {},
          "execution_count": 30
        }
      ]
    },
    {
      "cell_type": "code",
      "source": [
        "sent2=sp(\"can't is a contraction. \")\n",
        "for word in sent2:\n",
        "  print(word.text,\"--\",word.pos_,\"--\",word.dep_)"
      ],
      "metadata": {
        "colab": {
          "base_uri": "https://localhost:8080/"
        },
        "id": "JZ8Mb74NdBU9",
        "outputId": "40a3f790-5127-4e78-8a18-d4c459f73b78"
      },
      "execution_count": null,
      "outputs": [
        {
          "output_type": "stream",
          "name": "stdout",
          "text": [
            "ca -- AUX -- aux\n",
            "n't -- PART -- neg\n",
            "is -- AUX -- ROOT\n",
            "a -- DET -- det\n",
            "contraction -- NOUN -- attr\n",
            ". -- PUNCT -- punct\n"
          ]
        }
      ]
    },
    {
      "cell_type": "code",
      "source": [
        "from spacy import displacy\n",
        "displacy.render(sent2,style=\"dep\",jupyter=True,options={'distance':100})"
      ],
      "metadata": {
        "colab": {
          "base_uri": "https://localhost:8080/",
          "height": 259
        },
        "id": "g1l_yktKeyC7",
        "outputId": "3cbe90c0-cccc-4588-f852-717db5520e0b"
      },
      "execution_count": null,
      "outputs": [
        {
          "output_type": "display_data",
          "data": {
            "text/plain": [
              "<IPython.core.display.HTML object>"
            ],
            "text/html": [
              "<span class=\"tex2jax_ignore\"><svg xmlns=\"http://www.w3.org/2000/svg\" xmlns:xlink=\"http://www.w3.org/1999/xlink\" xml:lang=\"en\" id=\"b8488c387d01481a9567eb3ff22ba6d1-0\" class=\"displacy\" width=\"550\" height=\"237.0\" direction=\"ltr\" style=\"max-width: none; height: 237.0px; color: #000000; background: #ffffff; font-family: Arial; direction: ltr\">\n",
              "<text class=\"displacy-token\" fill=\"currentColor\" text-anchor=\"middle\" y=\"147.0\">\n",
              "    <tspan class=\"displacy-word\" fill=\"currentColor\" x=\"50\">ca</tspan>\n",
              "    <tspan class=\"displacy-tag\" dy=\"2em\" fill=\"currentColor\" x=\"50\">AUX</tspan>\n",
              "</text>\n",
              "\n",
              "<text class=\"displacy-token\" fill=\"currentColor\" text-anchor=\"middle\" y=\"147.0\">\n",
              "    <tspan class=\"displacy-word\" fill=\"currentColor\" x=\"150\">n't</tspan>\n",
              "    <tspan class=\"displacy-tag\" dy=\"2em\" fill=\"currentColor\" x=\"150\">PART</tspan>\n",
              "</text>\n",
              "\n",
              "<text class=\"displacy-token\" fill=\"currentColor\" text-anchor=\"middle\" y=\"147.0\">\n",
              "    <tspan class=\"displacy-word\" fill=\"currentColor\" x=\"250\">is</tspan>\n",
              "    <tspan class=\"displacy-tag\" dy=\"2em\" fill=\"currentColor\" x=\"250\">AUX</tspan>\n",
              "</text>\n",
              "\n",
              "<text class=\"displacy-token\" fill=\"currentColor\" text-anchor=\"middle\" y=\"147.0\">\n",
              "    <tspan class=\"displacy-word\" fill=\"currentColor\" x=\"350\">a</tspan>\n",
              "    <tspan class=\"displacy-tag\" dy=\"2em\" fill=\"currentColor\" x=\"350\">DET</tspan>\n",
              "</text>\n",
              "\n",
              "<text class=\"displacy-token\" fill=\"currentColor\" text-anchor=\"middle\" y=\"147.0\">\n",
              "    <tspan class=\"displacy-word\" fill=\"currentColor\" x=\"450\">contraction.</tspan>\n",
              "    <tspan class=\"displacy-tag\" dy=\"2em\" fill=\"currentColor\" x=\"450\">NOUN</tspan>\n",
              "</text>\n",
              "\n",
              "<g class=\"displacy-arrow\">\n",
              "    <path class=\"displacy-arc\" id=\"arrow-b8488c387d01481a9567eb3ff22ba6d1-0-0\" stroke-width=\"2px\" d=\"M70,102.0 C70,2.0 250.0,2.0 250.0,102.0\" fill=\"none\" stroke=\"currentColor\"/>\n",
              "    <text dy=\"1.25em\" style=\"font-size: 0.8em; letter-spacing: 1px\">\n",
              "        <textPath xlink:href=\"#arrow-b8488c387d01481a9567eb3ff22ba6d1-0-0\" class=\"displacy-label\" startOffset=\"50%\" side=\"left\" fill=\"currentColor\" text-anchor=\"middle\">aux</textPath>\n",
              "    </text>\n",
              "    <path class=\"displacy-arrowhead\" d=\"M70,104.0 L62,92.0 78,92.0\" fill=\"currentColor\"/>\n",
              "</g>\n",
              "\n",
              "<g class=\"displacy-arrow\">\n",
              "    <path class=\"displacy-arc\" id=\"arrow-b8488c387d01481a9567eb3ff22ba6d1-0-1\" stroke-width=\"2px\" d=\"M170,102.0 C170,52.0 245.0,52.0 245.0,102.0\" fill=\"none\" stroke=\"currentColor\"/>\n",
              "    <text dy=\"1.25em\" style=\"font-size: 0.8em; letter-spacing: 1px\">\n",
              "        <textPath xlink:href=\"#arrow-b8488c387d01481a9567eb3ff22ba6d1-0-1\" class=\"displacy-label\" startOffset=\"50%\" side=\"left\" fill=\"currentColor\" text-anchor=\"middle\">neg</textPath>\n",
              "    </text>\n",
              "    <path class=\"displacy-arrowhead\" d=\"M170,104.0 L162,92.0 178,92.0\" fill=\"currentColor\"/>\n",
              "</g>\n",
              "\n",
              "<g class=\"displacy-arrow\">\n",
              "    <path class=\"displacy-arc\" id=\"arrow-b8488c387d01481a9567eb3ff22ba6d1-0-2\" stroke-width=\"2px\" d=\"M370,102.0 C370,52.0 445.0,52.0 445.0,102.0\" fill=\"none\" stroke=\"currentColor\"/>\n",
              "    <text dy=\"1.25em\" style=\"font-size: 0.8em; letter-spacing: 1px\">\n",
              "        <textPath xlink:href=\"#arrow-b8488c387d01481a9567eb3ff22ba6d1-0-2\" class=\"displacy-label\" startOffset=\"50%\" side=\"left\" fill=\"currentColor\" text-anchor=\"middle\">det</textPath>\n",
              "    </text>\n",
              "    <path class=\"displacy-arrowhead\" d=\"M370,104.0 L362,92.0 378,92.0\" fill=\"currentColor\"/>\n",
              "</g>\n",
              "\n",
              "<g class=\"displacy-arrow\">\n",
              "    <path class=\"displacy-arc\" id=\"arrow-b8488c387d01481a9567eb3ff22ba6d1-0-3\" stroke-width=\"2px\" d=\"M270,102.0 C270,2.0 450.0,2.0 450.0,102.0\" fill=\"none\" stroke=\"currentColor\"/>\n",
              "    <text dy=\"1.25em\" style=\"font-size: 0.8em; letter-spacing: 1px\">\n",
              "        <textPath xlink:href=\"#arrow-b8488c387d01481a9567eb3ff22ba6d1-0-3\" class=\"displacy-label\" startOffset=\"50%\" side=\"left\" fill=\"currentColor\" text-anchor=\"middle\">attr</textPath>\n",
              "    </text>\n",
              "    <path class=\"displacy-arrowhead\" d=\"M450.0,104.0 L458.0,92.0 442.0,92.0\" fill=\"currentColor\"/>\n",
              "</g>\n",
              "</svg></span>"
            ]
          },
          "metadata": {}
        }
      ]
    },
    {
      "cell_type": "code",
      "source": [
        "nlp=spacy.load(\"en_core_web_sm\")\n",
        "Text=\"It's official: TCS becomes first Indian company to breach $100 billion market\"\n",
        "doc=nlp(Text)\n",
        "for entity in doc.ents:\n",
        "  print(entity.text+'-'+entity.label_+'-'+str(spacy.explain(entity.label_)))"
      ],
      "metadata": {
        "colab": {
          "base_uri": "https://localhost:8080/"
        },
        "id": "jjc9vAiqfjhE",
        "outputId": "f9895f92-1789-48c2-f6bf-67ce5873c741"
      },
      "execution_count": null,
      "outputs": [
        {
          "output_type": "stream",
          "name": "stdout",
          "text": [
            "TCS-ORG-Companies, agencies, institutions, etc.\n",
            "first-ORDINAL-\"first\", \"second\", etc.\n",
            "Indian-NORP-Nationalities or religious or political groups\n",
            "$100 billion-MONEY-Monetary values, including unit\n"
          ]
        }
      ]
    }
  ]
}