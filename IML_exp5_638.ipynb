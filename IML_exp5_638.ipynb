{
  "nbformat": 4,
  "nbformat_minor": 0,
  "metadata": {
    "colab": {
      "name": "IML_exp5_638.ipynb",
      "provenance": [],
      "collapsed_sections": []
    },
    "kernelspec": {
      "name": "python3",
      "display_name": "Python 3"
    },
    "language_info": {
      "name": "python"
    }
  },
  "cells": [
    {
      "cell_type": "code",
      "execution_count": null,
      "metadata": {
        "id": "f-UH8i6FjIbl"
      },
      "outputs": [],
      "source": [
        "import numpy as np"
      ]
    },
    {
      "cell_type": "code",
      "source": [
        "from sklearn.linear_model import LogisticRegression\n",
        "from sklearn.metrics import classification_report,confusion_matrix"
      ],
      "metadata": {
        "id": "Y_6oehU2jb_o"
      },
      "execution_count": null,
      "outputs": []
    },
    {
      "cell_type": "code",
      "source": [
        "x=np.arange(10).reshape(-1,1)\n",
        "y=np.array([0,0,0,0,1,1,1,1,1,1])"
      ],
      "metadata": {
        "id": "MQ7Wdpl9jsI2"
      },
      "execution_count": null,
      "outputs": []
    },
    {
      "cell_type": "code",
      "source": [
        "model=LogisticRegression(solver='liblinear',random_state=0)"
      ],
      "metadata": {
        "id": "lCDq9XeKj2dJ"
      },
      "execution_count": null,
      "outputs": []
    },
    {
      "cell_type": "code",
      "source": [
        "model.fit(x,y)\n",
        "print(model.classes_)\n",
        "print(model.intercept_)\n",
        "print(model.coef_)\n",
        "print(model.predict(x))\n",
        "print(model.score(x,y))\n",
        "print(confusion_matrix(y,model.predict(x)))\n",
        "print(classification_report(y,model.predict(x)))"
      ],
      "metadata": {
        "colab": {
          "base_uri": "https://localhost:8080/"
        },
        "id": "jtIjliXnkAuM",
        "outputId": "6f041f7a-9eef-469a-d790-14649c7e2d04"
      },
      "execution_count": null,
      "outputs": [
        {
          "output_type": "stream",
          "name": "stdout",
          "text": [
            "[0 1]\n",
            "[-1.04608067]\n",
            "[[0.51491375]]\n",
            "[0 0 0 1 1 1 1 1 1 1]\n",
            "0.9\n",
            "[[3 1]\n",
            " [0 6]]\n",
            "              precision    recall  f1-score   support\n",
            "\n",
            "           0       1.00      0.75      0.86         4\n",
            "           1       0.86      1.00      0.92         6\n",
            "\n",
            "    accuracy                           0.90        10\n",
            "   macro avg       0.93      0.88      0.89        10\n",
            "weighted avg       0.91      0.90      0.90        10\n",
            "\n"
          ]
        }
      ]
    }
  ]
}