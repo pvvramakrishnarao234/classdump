{
  "nbformat": 4,
  "nbformat_minor": 0,
  "metadata": {
    "colab": {
      "name": "20BD1A6612-ML-Exp-2.ipynb",
      "provenance": [],
      "collapsed_sections": [],
      "include_colab_link": true
    },
    "kernelspec": {
      "name": "python3",
      "display_name": "Python 3"
    },
    "language_info": {
      "name": "python"
    }
  },
  "cells": [
    {
      "cell_type": "markdown",
      "metadata": {
        "id": "view-in-github",
        "colab_type": "text"
      },
      "source": [
        "<a href=\"https://colab.research.google.com/github/pvvramakrishnarao234/classdump/blob/main/20BD1A6640_ML_Exp_2.ipynb\" target=\"_parent\"><img src=\"https://colab.research.google.com/assets/colab-badge.svg\" alt=\"Open In Colab\"/></a>"
      ]
    },
    {
      "cell_type": "code",
      "execution_count": null,
      "metadata": {
        "id": "xAO8QrWdaYNS"
      },
      "outputs": [],
      "source": [
        "import numpy as np"
      ]
    },
    {
      "cell_type": "code",
      "source": [
        "a=np.array([1,2,3,4,5,6,7,8,9,10])\n",
        "print(f\"Mean of the given array is {np.mean(a)}\")"
      ],
      "metadata": {
        "colab": {
          "base_uri": "https://localhost:8080/"
        },
        "id": "tvv45LbBaeNh",
        "outputId": "255266d1-da6d-4b05-ac11-2b439ffce7e2"
      },
      "execution_count": null,
      "outputs": [
        {
          "output_type": "stream",
          "name": "stdout",
          "text": [
            "Mean of the given array is 5.5\n"
          ]
        }
      ]
    },
    {
      "cell_type": "code",
      "source": [
        "stddev=np.std(a,dtype=np.float64)\n",
        "print(f\"Standard deviation of the given array is {stddev}\")"
      ],
      "metadata": {
        "colab": {
          "base_uri": "https://localhost:8080/"
        },
        "id": "2Cn4clTFbCoh",
        "outputId": "7502098a-debd-4175-ded3-6e0eb6153fa5"
      },
      "execution_count": null,
      "outputs": [
        {
          "output_type": "stream",
          "name": "stdout",
          "text": [
            "Standard deviation of the given array is 2.8722813232690143\n"
          ]
        }
      ]
    },
    {
      "cell_type": "code",
      "source": [
        "variance=np.var(a,dtype=np.float64)\n",
        "print(f\"The variance of the given array is {variance}\")"
      ],
      "metadata": {
        "colab": {
          "base_uri": "https://localhost:8080/"
        },
        "id": "isBBC-dpbvQZ",
        "outputId": "0c4b57cc-2b7c-4252-c7bf-36d2f7768bdf"
      },
      "execution_count": null,
      "outputs": [
        {
          "output_type": "stream",
          "name": "stdout",
          "text": [
            "The variance of the given array is 8.25\n"
          ]
        }
      ]
    },
    {
      "cell_type": "code",
      "source": [
        "x=np.array([[0,3,4],[1,2,4],[3,4,5]])\n",
        "print(f\"Shape of x is {np.shape(x)}\")\n",
        "print(\"Covaiance matrix of the given matrix is\\n\")\n",
        "cmatrix=np.cov(x,dtype=np.float64)\n",
        "print(cmatrix)"
      ],
      "metadata": {
        "colab": {
          "base_uri": "https://localhost:8080/"
        },
        "id": "hxeHaqSCb6J3",
        "outputId": "977f1999-e110-41ae-a2cf-3b37233135b0"
      },
      "execution_count": null,
      "outputs": [
        {
          "output_type": "stream",
          "name": "stdout",
          "text": [
            "Shape of x is (3, 3)\n",
            "Covaiance matrix of the given matrix is\n",
            "\n",
            "[[4.33333333 2.83333333 2.        ]\n",
            " [2.83333333 2.33333333 1.5       ]\n",
            " [2.         1.5        1.        ]]\n"
          ]
        }
      ]
    },
    {
      "cell_type": "code",
      "source": [
        "a=np.array([1,2,3,4,5,6])\n",
        "b=np.array([10,11,12,13,14,15])\n",
        "mat=np.cov(a,b)\n",
        "print(f\"Covaiance matrix of the given two matrices is \\n {mat}\")"
      ],
      "metadata": {
        "colab": {
          "base_uri": "https://localhost:8080/"
        },
        "id": "rEaNmmuudkP7",
        "outputId": "b5397922-0674-4413-d717-1bf919b3b4a1"
      },
      "execution_count": null,
      "outputs": [
        {
          "output_type": "stream",
          "name": "stdout",
          "text": [
            "Covaiance matrix of the given two matrices is \n",
            " [[3.5 3.5]\n",
            " [3.5 3.5]]\n"
          ]
        }
      ]
    }
  ]
}